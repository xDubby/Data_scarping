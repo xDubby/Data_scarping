{
 "cells": [
  {
   "cell_type": "markdown",
   "id": "bf544ddc",
   "metadata": {},
   "source": [
    "# Web Scraping & Data Analysis Project Template"
   ]
  },
  {
   "cell_type": "markdown",
   "id": "ecf0eb4e",
   "metadata": {},
   "source": [
    "## Indice\n",
    "1. Import librerie\n",
    "2. Definizione URL e scraping dati\n",
    "3. Parsing e salvataggio dati\n",
    "4. Pulizia dataset\n",
    "5. Analisi esplorativa\n",
    "6. Visualizzazioni"
   ]
  },
  {
   "cell_type": "markdown",
   "id": "d50115a2",
   "metadata": {},
   "source": [
    "## Import librerie"
   ]
  },
  {
   "cell_type": "code",
   "execution_count": 78,
   "id": "e68107cb",
   "metadata": {},
   "outputs": [],
   "source": [
    "import requests\n",
    "from bs4 import BeautifulSoup\n",
    "import pandas as pd\n",
    "import matplotlib.pyplot as plt\n",
    "import seaborn as sns"
   ]
  },
  {
   "cell_type": "markdown",
   "id": "f3c63fed",
   "metadata": {},
   "source": [
    "## Definizione URL e scraping dati"
   ]
  },
  {
   "cell_type": "code",
   "execution_count": 79,
   "id": "1ba87689",
   "metadata": {},
   "outputs": [],
   "source": [
    "#url = 'https://www.imdb.com/it/chart/top/'\n",
    "#response = requests.get(url)         #IMDb Implemented a script to protect from the scraping so we are forced to use another url\n",
    "#headers = {\n",
    "    #'User-Agent': 'Mozilla/5.0 (Windows NT 10.0; Win64; x64) AppleWebKit/537.36 (KHTML, like Gecko) Chrome/122.0.0.0 Safari/537.36'\n",
    "#}\n",
    "\n",
    "#response = requests.get(url, headers=headers)\n",
    "\n",
    "#print(soup.prettify())\n"
   ]
  },
  {
   "cell_type": "code",
   "execution_count": 80,
   "id": "8a32893b",
   "metadata": {},
   "outputs": [],
   "source": [
    "url = 'https://books.toscrape.com/'\n",
    "\n",
    "headers = {\n",
    "    'User-Agent': 'Mozilla/5.0 (Windows NT 10.0; Win64; x64)'\n",
    "}\n",
    "\n",
    "response = requests.get(url, headers=headers)\n",
    "soup = BeautifulSoup(response.text, 'html.parser')\n",
    "\n",
    "#print(soup.prettify())"
   ]
  },
  {
   "cell_type": "markdown",
   "id": "e490f1bb",
   "metadata": {},
   "source": [
    "## Estrazione Dati"
   ]
  },
  {
   "cell_type": "code",
   "execution_count": null,
   "id": "c8865b23",
   "metadata": {},
   "outputs": [],
   "source": [
    "books = soup.find_all('article',class_ = 'product_pod')\n",
    "title=[]\n",
    "price=[]\n",
    "rating=[]\n",
    "rating_map = {\n",
    "    'One':1,\n",
    "    'Two':2,\n",
    "    'Three':3,\n",
    "    'Four':4,\n",
    "    'Five':5\n",
    "}\n",
    "\n",
    "for book in books:\n",
    "    titolo = book.h3.a['title']\n",
    "    prezzo = book.find('p', class_='price_color').text\n",
    "    title.append(titolo)\n",
    "    price.append(prezzo)\n",
    "\n",
    "    punteggio = book.find('p',class_='star-rating')\n",
    "    \n",
    "    if punteggio:\n",
    "        # Le classi sono una lista, l'ultima classe è quella che indica il rating (es. 'Two')\n",
    "        # Filtriamo le classi per trovare quella che ci interessa (es. 'One', 'Two', etc.)\n",
    "        rating_class = [cls for cls in punteggio['class'] if cls in rating_map]\n",
    "        \n",
    "        # Se troviamo una classe di rating valida, la mappiamo al valore numerico\n",
    "        if rating_class:\n",
    "            numerical_rating = rating_map[rating_class[0]]\n",
    "            rating.append(numerical_rating)\n",
    "        else:\n",
    "            # Se non troviamo una classe di rating valida, aggiungiamo None o un valore predefinito\n",
    "            rating.append(0) # O 0, a seconda di come vuoi gestire i rating mancanti/non riconosciuti\n",
    "   "
   ]
  },
  {
   "cell_type": "markdown",
   "id": "4bfe5b52",
   "metadata": {},
   "source": [
    "## Parsing e salvataggio dati"
   ]
  },
  {
   "cell_type": "code",
   "execution_count": 82,
   "id": "669e3c59",
   "metadata": {},
   "outputs": [],
   "source": [
    "df = pd.DataFrame({\n",
    "    'Title': title,\n",
    "    'Price': price,\n",
    "    'Rating': rating\n",
    "})\n"
   ]
  },
  {
   "cell_type": "markdown",
   "id": "3059d145",
   "metadata": {},
   "source": [
    "## Pulizia dataset"
   ]
  },
  {
   "cell_type": "code",
   "execution_count": 83,
   "id": "17bcebc1",
   "metadata": {},
   "outputs": [
    {
     "name": "stdout",
     "output_type": "stream",
     "text": [
      "<class 'pandas.core.frame.DataFrame'>\n",
      "RangeIndex: 20 entries, 0 to 19\n",
      "Data columns (total 3 columns):\n",
      " #   Column  Non-Null Count  Dtype \n",
      "---  ------  --------------  ----- \n",
      " 0   Title   20 non-null     object\n",
      " 1   Price   20 non-null     object\n",
      " 2   Rating  20 non-null     int64 \n",
      "dtypes: int64(1), object(2)\n",
      "memory usage: 612.0+ bytes\n"
     ]
    },
    {
     "data": {
      "text/html": [
       "<div>\n",
       "<style scoped>\n",
       "    .dataframe tbody tr th:only-of-type {\n",
       "        vertical-align: middle;\n",
       "    }\n",
       "\n",
       "    .dataframe tbody tr th {\n",
       "        vertical-align: top;\n",
       "    }\n",
       "\n",
       "    .dataframe thead th {\n",
       "        text-align: right;\n",
       "    }\n",
       "</style>\n",
       "<table border=\"1\" class=\"dataframe\">\n",
       "  <thead>\n",
       "    <tr style=\"text-align: right;\">\n",
       "      <th></th>\n",
       "      <th>Title</th>\n",
       "      <th>Price</th>\n",
       "      <th>Rating</th>\n",
       "    </tr>\n",
       "  </thead>\n",
       "  <tbody>\n",
       "    <tr>\n",
       "      <th>0</th>\n",
       "      <td>A Light in the Attic</td>\n",
       "      <td>Â£51.77</td>\n",
       "      <td>3</td>\n",
       "    </tr>\n",
       "    <tr>\n",
       "      <th>1</th>\n",
       "      <td>Tipping the Velvet</td>\n",
       "      <td>Â£53.74</td>\n",
       "      <td>1</td>\n",
       "    </tr>\n",
       "    <tr>\n",
       "      <th>2</th>\n",
       "      <td>Soumission</td>\n",
       "      <td>Â£50.10</td>\n",
       "      <td>1</td>\n",
       "    </tr>\n",
       "    <tr>\n",
       "      <th>3</th>\n",
       "      <td>Sharp Objects</td>\n",
       "      <td>Â£47.82</td>\n",
       "      <td>4</td>\n",
       "    </tr>\n",
       "    <tr>\n",
       "      <th>4</th>\n",
       "      <td>Sapiens: A Brief History of Humankind</td>\n",
       "      <td>Â£54.23</td>\n",
       "      <td>5</td>\n",
       "    </tr>\n",
       "    <tr>\n",
       "      <th>5</th>\n",
       "      <td>The Requiem Red</td>\n",
       "      <td>Â£22.65</td>\n",
       "      <td>1</td>\n",
       "    </tr>\n",
       "    <tr>\n",
       "      <th>6</th>\n",
       "      <td>The Dirty Little Secrets of Getting Your Dream...</td>\n",
       "      <td>Â£33.34</td>\n",
       "      <td>4</td>\n",
       "    </tr>\n",
       "    <tr>\n",
       "      <th>7</th>\n",
       "      <td>The Coming Woman: A Novel Based on the Life of...</td>\n",
       "      <td>Â£17.93</td>\n",
       "      <td>3</td>\n",
       "    </tr>\n",
       "    <tr>\n",
       "      <th>8</th>\n",
       "      <td>The Boys in the Boat: Nine Americans and Their...</td>\n",
       "      <td>Â£22.60</td>\n",
       "      <td>4</td>\n",
       "    </tr>\n",
       "    <tr>\n",
       "      <th>9</th>\n",
       "      <td>The Black Maria</td>\n",
       "      <td>Â£52.15</td>\n",
       "      <td>1</td>\n",
       "    </tr>\n",
       "    <tr>\n",
       "      <th>10</th>\n",
       "      <td>Starving Hearts (Triangular Trade Trilogy, #1)</td>\n",
       "      <td>Â£13.99</td>\n",
       "      <td>2</td>\n",
       "    </tr>\n",
       "    <tr>\n",
       "      <th>11</th>\n",
       "      <td>Shakespeare's Sonnets</td>\n",
       "      <td>Â£20.66</td>\n",
       "      <td>4</td>\n",
       "    </tr>\n",
       "    <tr>\n",
       "      <th>12</th>\n",
       "      <td>Set Me Free</td>\n",
       "      <td>Â£17.46</td>\n",
       "      <td>5</td>\n",
       "    </tr>\n",
       "    <tr>\n",
       "      <th>13</th>\n",
       "      <td>Scott Pilgrim's Precious Little Life (Scott Pi...</td>\n",
       "      <td>Â£52.29</td>\n",
       "      <td>5</td>\n",
       "    </tr>\n",
       "    <tr>\n",
       "      <th>14</th>\n",
       "      <td>Rip it Up and Start Again</td>\n",
       "      <td>Â£35.02</td>\n",
       "      <td>5</td>\n",
       "    </tr>\n",
       "    <tr>\n",
       "      <th>15</th>\n",
       "      <td>Our Band Could Be Your Life: Scenes from the A...</td>\n",
       "      <td>Â£57.25</td>\n",
       "      <td>3</td>\n",
       "    </tr>\n",
       "    <tr>\n",
       "      <th>16</th>\n",
       "      <td>Olio</td>\n",
       "      <td>Â£23.88</td>\n",
       "      <td>1</td>\n",
       "    </tr>\n",
       "    <tr>\n",
       "      <th>17</th>\n",
       "      <td>Mesaerion: The Best Science Fiction Stories 18...</td>\n",
       "      <td>Â£37.59</td>\n",
       "      <td>1</td>\n",
       "    </tr>\n",
       "    <tr>\n",
       "      <th>18</th>\n",
       "      <td>Libertarianism for Beginners</td>\n",
       "      <td>Â£51.33</td>\n",
       "      <td>2</td>\n",
       "    </tr>\n",
       "    <tr>\n",
       "      <th>19</th>\n",
       "      <td>It's Only the Himalayas</td>\n",
       "      <td>Â£45.17</td>\n",
       "      <td>2</td>\n",
       "    </tr>\n",
       "  </tbody>\n",
       "</table>\n",
       "</div>"
      ],
      "text/plain": [
       "                                                Title    Price  Rating\n",
       "0                                A Light in the Attic  Â£51.77       3\n",
       "1                                  Tipping the Velvet  Â£53.74       1\n",
       "2                                          Soumission  Â£50.10       1\n",
       "3                                       Sharp Objects  Â£47.82       4\n",
       "4               Sapiens: A Brief History of Humankind  Â£54.23       5\n",
       "5                                     The Requiem Red  Â£22.65       1\n",
       "6   The Dirty Little Secrets of Getting Your Dream...  Â£33.34       4\n",
       "7   The Coming Woman: A Novel Based on the Life of...  Â£17.93       3\n",
       "8   The Boys in the Boat: Nine Americans and Their...  Â£22.60       4\n",
       "9                                     The Black Maria  Â£52.15       1\n",
       "10     Starving Hearts (Triangular Trade Trilogy, #1)  Â£13.99       2\n",
       "11                              Shakespeare's Sonnets  Â£20.66       4\n",
       "12                                        Set Me Free  Â£17.46       5\n",
       "13  Scott Pilgrim's Precious Little Life (Scott Pi...  Â£52.29       5\n",
       "14                          Rip it Up and Start Again  Â£35.02       5\n",
       "15  Our Band Could Be Your Life: Scenes from the A...  Â£57.25       3\n",
       "16                                               Olio  Â£23.88       1\n",
       "17  Mesaerion: The Best Science Fiction Stories 18...  Â£37.59       1\n",
       "18                       Libertarianism for Beginners  Â£51.33       2\n",
       "19                            It's Only the Himalayas  Â£45.17       2"
      ]
     },
     "execution_count": 83,
     "metadata": {},
     "output_type": "execute_result"
    }
   ],
   "source": [
    "df.info()\n",
    "df.dropna()"
   ]
  },
  {
   "cell_type": "markdown",
   "id": "c463e783",
   "metadata": {},
   "source": [
    "## Analisi esplorativa"
   ]
  },
  {
   "cell_type": "code",
   "execution_count": 84,
   "id": "ea18c7b8",
   "metadata": {},
   "outputs": [
    {
     "data": {
      "text/html": [
       "<div>\n",
       "<style scoped>\n",
       "    .dataframe tbody tr th:only-of-type {\n",
       "        vertical-align: middle;\n",
       "    }\n",
       "\n",
       "    .dataframe tbody tr th {\n",
       "        vertical-align: top;\n",
       "    }\n",
       "\n",
       "    .dataframe thead th {\n",
       "        text-align: right;\n",
       "    }\n",
       "</style>\n",
       "<table border=\"1\" class=\"dataframe\">\n",
       "  <thead>\n",
       "    <tr style=\"text-align: right;\">\n",
       "      <th></th>\n",
       "      <th>Rating</th>\n",
       "    </tr>\n",
       "  </thead>\n",
       "  <tbody>\n",
       "    <tr>\n",
       "      <th>count</th>\n",
       "      <td>20.000000</td>\n",
       "    </tr>\n",
       "    <tr>\n",
       "      <th>mean</th>\n",
       "      <td>2.850000</td>\n",
       "    </tr>\n",
       "    <tr>\n",
       "      <th>std</th>\n",
       "      <td>1.565248</td>\n",
       "    </tr>\n",
       "    <tr>\n",
       "      <th>min</th>\n",
       "      <td>1.000000</td>\n",
       "    </tr>\n",
       "    <tr>\n",
       "      <th>25%</th>\n",
       "      <td>1.000000</td>\n",
       "    </tr>\n",
       "    <tr>\n",
       "      <th>50%</th>\n",
       "      <td>3.000000</td>\n",
       "    </tr>\n",
       "    <tr>\n",
       "      <th>75%</th>\n",
       "      <td>4.000000</td>\n",
       "    </tr>\n",
       "    <tr>\n",
       "      <th>max</th>\n",
       "      <td>5.000000</td>\n",
       "    </tr>\n",
       "  </tbody>\n",
       "</table>\n",
       "</div>"
      ],
      "text/plain": [
       "          Rating\n",
       "count  20.000000\n",
       "mean    2.850000\n",
       "std     1.565248\n",
       "min     1.000000\n",
       "25%     1.000000\n",
       "50%     3.000000\n",
       "75%     4.000000\n",
       "max     5.000000"
      ]
     },
     "execution_count": 84,
     "metadata": {},
     "output_type": "execute_result"
    }
   ],
   "source": [
    "df.describe()"
   ]
  },
  {
   "cell_type": "markdown",
   "id": "c58aac83",
   "metadata": {},
   "source": [
    "## Visualizzazioni"
   ]
  },
  {
   "cell_type": "code",
   "execution_count": 85,
   "id": "9ab2200d",
   "metadata": {},
   "outputs": [
    {
     "data": {
      "image/png": "[encoded data removed]",
      "text/plain": [
       "<Figure size 640x480 with 1 Axes>"
      ]
     },
     "metadata": {},
     "output_type": "display_data"
    }
   ],
   "source": [
    "sns.histplot(df['Rating'])\n",
    "plt.show()"
   ]
  },
  {
   "cell_type": "markdown",
   "id": "4b3f4f73",
   "metadata": {},
   "source": [
    "## Insight e Conclusioni"
   ]
  },
  {
   "cell_type": "markdown",
   "id": "4eb51913",
   "metadata": {},
   "source": [
    "Questo progetto ha rappresentato un'ottima opportunità per mettere in pratica le tecniche di web scraping utilizzando le librerie Python requests e BeautifulSoup. In precedenza mai utilizzate, quindi un modo per imparare tecniche nuove\n",
    "L'obiettivo principale era estrarre informazioni strutturate da una pagina web, in particolare i titoli, i prezzi e i rating dei libri dal sito \"books.toscrape.com\".\n",
    "\n",
    "Durante l'esercizio, è emersa una sfida interessante legata all'estrazione dei rating, che erano rappresentati tramite classi CSS testuali (es. \"Two\", \"Three\") anziché valori numerici diretti. Questa situazione ha permesso di implementare una soluzione efficace basata su una mappatura (dictionary) per convertire queste classi in valori numerici significativi, dimostrando la flessibilità necessaria nell'adattarsi alle diverse strutture HTML dei siti web.\n",
    "\n",
    "Il processo di scraping ha permesso di raccogliere i dati desiderati e di organizzarli in un DataFrame pandas, un formato ideale per le successive fasi di analisi. Sebbene l'analisi esplorativa sia stata qui limitata a una semplice descrizione statistica e una visualizzazione della distribuzione dei rating, essa ha mostrato il potenziale per indagini più approfondite. Ad esempio, si potrebbe analizzare la relazione tra prezzo e rating, o identificare i libri con i rating più alti.\n",
    "\n",
    "In conclusione, questo esercizio ha validato la capacità di:\n",
    "\n",
    "- Effettuare richieste HTTP a siti web.\n",
    "\n",
    "- Parsare il contenuto HTML per estrarre elementi specifici.\n",
    "\n",
    "- Gestire e trasformare dati non standardizzati (come i rating testuali).\n",
    "\n",
    "- Strutturare i dati estratti per renderli pronti all'analisi.\n"
   ]
  }
 ],
 "metadata": {
  "kernelspec": {
   "display_name": "Python 3",
   "language": "python",
   "name": "python3"
  },
  "language_info": {
   "codemirror_mode": {
    "name": "ipython",
    "version": 3
   },
   "file_extension": ".py",
   "mimetype": "text/x-python",
   "name": "python",
   "nbconvert_exporter": "python",
   "pygments_lexer": "ipython3",
   "version": "3.12.1"
  }
 },
 "nbformat": 4,
 "nbformat_minor": 5
}
